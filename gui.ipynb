{
 "cells": [
  {
   "cell_type": "code",
   "execution_count": null,
   "metadata": {},
   "outputs": [
    {
     "name": "stdout",
     "output_type": "stream",
     "text": [
      "create socket host:192.168.10.153 port:30007\n"
     ]
    }
   ],
   "source": [
    "import pyautogui as pgui\n",
    "import socket\n",
    "import time\n",
    "pgui.PAUSE = 0.000\n",
    "pgui.FAILSAFE = False\n",
    "M_SIZE = 1024\n",
    "\n",
    "# \n",
    "host = '192.168.10.153'\n",
    "port = 30007\n",
    "\n",
    "locaddr = (host, port)\n",
    "\n",
    "# ①ソケットを作成する\n",
    "sock = socket.socket(socket.AF_INET, type=socket.SOCK_DGRAM)\n",
    "print('create socket host:'+host,\"port:\"+str(port))\n",
    "\n",
    "# ②自ホストで使用するIPアドレスとポート番号を指定\n",
    "sock.bind(locaddr)\n",
    "\n",
    "while True:\n",
    "    try :\n",
    "        # ③Clientからのmessageの受付開始\n",
    "        message, cli_addr = sock.recvfrom(M_SIZE)\n",
    "        message = message.decode(encoding='utf-8')\n",
    "        # print(f'Received message is [{message}]')\n",
    "        x=float(message.split(\",\")[0].split(\":\")[1])\n",
    "        y=float(message.split(\",\")[1].split(\":\")[1])\n",
    "        z=float(message.split(\",\")[2].split(\":\")[1])\n",
    "        cmd=str(message.split(\",\")[3].split(\":\")[1])[0]\n",
    "        # print(f\"x:{x},y:{y},z:{z},cmd:{cmd}\")\n",
    "        if cmd==\"j\":\n",
    "            time.sleep(0.01)\n",
    "            pgui.click(x,y)\n",
    "            # pgui.moveTo(700, 500)\n",
    "            continue;\n",
    "        elif (cmd==\"s\"):\n",
    "            print(z)\n",
    "            pgui.scroll(int(z*10), x, y)\n",
    "            continue;\n",
    "        #pgui.moveTo(300+5*x, 500+4*y, duration=0)\n",
    "        else:\n",
    "            pgui.moveRel(-x*10, -y*10, duration=0)\n",
    "        # Clientが受信待ちになるまで待つため\n",
    "#         time.sleep(1)\n",
    "\n",
    "        # ④Clientへ受信完了messageを送信\n",
    "#         print('Send response to Client')\n",
    "#         sock.sendto('Success to receive message'.encode(encoding='utf-8'), cli_addr)\n",
    "\n",
    "    except KeyboardInterrupt:\n",
    "        print ('\\n . . .\\n')\n",
    "        sock.close()\n",
    "        break"
   ]
  },
  {
   "cell_type": "code",
   "execution_count": null,
   "metadata": {},
   "outputs": [],
   "source": []
  }
 ],
 "metadata": {
  "kernelspec": {
   "display_name": "Python 3",
   "language": "python",
   "name": "python3"
  },
  "language_info": {
   "codemirror_mode": {
    "name": "ipython",
    "version": 3
   },
   "file_extension": ".py",
   "mimetype": "text/x-python",
   "name": "python",
   "nbconvert_exporter": "python",
   "pygments_lexer": "ipython3",
   "version": "3.7.9"
  }
 },
 "nbformat": 4,
 "nbformat_minor": 4
}
