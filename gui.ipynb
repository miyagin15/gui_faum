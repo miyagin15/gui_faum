{
 "cells": [
  {
   "cell_type": "code",
   "execution_count": null,
   "metadata": {},
   "outputs": [],
   "source": [
    "!pip uninstall blessed"
   ]
  },
  {
   "cell_type": "code",
   "execution_count": 2,
   "metadata": {},
   "outputs": [
    {
     "name": "stdout",
     "output_type": "stream",
     "text": [
      "Collecting blessed==1.9.1\n",
      "  Downloading blessed-1.9.1.tar.gz (72 kB)\n",
      "Requirement already satisfied: wcwidth>=0.1.0 in c:\\users\\miyata\\anaconda3\\envs\\gui\\lib\\site-packages (from blessed==1.9.1) (0.2.5)\n",
      "Building wheels for collected packages: blessed\n",
      "  Building wheel for blessed (setup.py): started\n",
      "  Building wheel for blessed (setup.py): finished with status 'done'\n",
      "  Created wheel for blessed: filename=blessed-1.9.1-py3-none-any.whl size=57958 sha256=b4251539be436d8405c9a0a6722d7d9653fb8d1f6dc37f2d2960f31f52ac5b95\n",
      "  Stored in directory: c:\\users\\miyata\\appdata\\local\\pip\\cache\\wheels\\aa\\92\\54\\ec8f99a8dc9e26aead6993081acfb521d65d66c80230f6167e\n",
      "Successfully built blessed\n",
      "Installing collected packages: blessed\n",
      "  Attempting uninstall: blessed\n",
      "    Found existing installation: blessed 1.17.12\n",
      "    Uninstalling blessed-1.17.12:\n",
      "      Successfully uninstalled blessed-1.17.12\n",
      "Successfully installed blessed-1.9.1\n"
     ]
    }
   ],
   "source": [
    "!pip install blessed==1.9.1"
   ]
  },
  {
   "cell_type": "code",
   "execution_count": null,
   "metadata": {},
   "outputs": [],
   "source": [
    "from blessed import Terminal\n",
    "t = Terminal()\n",
    "with t.cbreak():\n",
    "    while True:\n",
    "        k = t.inkey(timeout=0.001)\n",
    "        if not k :\n",
    "            pass\n",
    "        elif k.is_sequence:\n",
    "            if k.name == 'KEY_ESCAPE':\n",
    "                break\n",
    "            print(f'\"{k.name}\"が押されました。終了するには「ESC」キーを押してください。')\n",
    "        else:\n",
    "            print(f'\"{k}\"が押されました。終了するには「ESC」キーを押してください。')"
   ]
  },
  {
   "cell_type": "code",
   "execution_count": null,
   "metadata": {},
   "outputs": [
    {
     "name": "stdout",
     "output_type": "stream",
     "text": [
      "create socket host:192.168.10.153 port:30007\n"
     ]
    }
   ],
   "source": [
    "import pyautogui as pgui\n",
    "import socket\n",
    "import time\n",
    "import math\n",
    "pgui.PAUSE = 0.000\n",
    "pgui.FAILSAFE = False\n",
    "M_SIZE = 1024\n",
    "\n",
    "# \n",
    "host = '192.168.10.153'\n",
    "port = 30007\n",
    "\n",
    "locaddr = (host, port)\n",
    "\n",
    "# ①ソケットを作成する\n",
    "sock = socket.socket(socket.AF_INET, type=socket.SOCK_DGRAM)\n",
    "print('create socket host:'+host,\"port:\"+str(port))\n",
    "\n",
    "# ②自ホストで使用するIPアドレスとポート番号を指定\n",
    "sock.bind(locaddr)\n",
    "\n",
    "def operation_value(value):\n",
    "    if value > 0:\n",
    "        return ((1/(1+math.exp(-10*(value-0.5))))-0.5)*1.5+0.73996\n",
    "    else:\n",
    "        return -(((1/(1+math.exp(-10*(-value-0.5))))-0.5)*1.5+0.73996)\n",
    "click_chattering=0\n",
    "while True:\n",
    "    try :\n",
    "        # ③Clientからのmessageの受付開始\n",
    "        message, cli_addr = sock.recvfrom(M_SIZE)\n",
    "        message = message.decode(encoding='utf-8')\n",
    "        # print(f'Received message is [{message}]')\n",
    "        x=float(message.split(\",\")[0].split(\":\")[1])\n",
    "        y=float(message.split(\",\")[1].split(\":\")[1])\n",
    "        z=float(message.split(\",\")[2].split(\":\")[1])\n",
    "        cmd=str(message.split(\",\")[3].split(\":\")[1])[0]\n",
    "        # print(f\"x:{x},y:{y},z:{z},cmd:{cmd}\")\n",
    "        operate_value_x=operation_value(x)\n",
    "        operate_value_y=operation_value(y)\n",
    "        operate_value_z=operation_value(z)\n",
    "        if cmd==\"j\":\n",
    "            click_chattering=click_chattering+1\n",
    "            print(click_chattering)\n",
    "            if click_chattering%15==0:\n",
    "                print(\"click\")\n",
    "                click_x, click_y = pgui.position()\n",
    "                pgui.click(click_x,click_y)\n",
    "            # pgui.moveTo(700, 500)\n",
    "            continue;\n",
    "        elif (cmd==\"s\"):\n",
    "            # print(z)\n",
    "            if abs(z)<0.5:\n",
    "                continue;\n",
    "            pgui.scroll(int(operate_value_z*30), operate_value_x, operate_value_y)\n",
    "            continue;\n",
    "        #pgui.moveTo(300+5*x, 500+4*y, duration=0)\n",
    "        else:\n",
    "            pgui.moveRel(-operate_value_x*10, -operate_value_y*10, duration=0)\n",
    "        # Clientが受信待ちになるまで待つため\n",
    "#         time.sleep(1)\n",
    "\n",
    "        # ④Clientへ受信完了messageを送信\n",
    "#         print('Send response to Client')\n",
    "#         sock.sendto('Success to receive message'.encode(encoding='utf-8'), cli_addr)\n",
    "\n",
    "    except KeyboardInterrupt:\n",
    "        print ('\\n . . .\\n')\n",
    "        sock.close()\n",
    "        break"
   ]
  },
  {
   "cell_type": "code",
   "execution_count": null,
   "metadata": {},
   "outputs": [],
   "source": [
    "import math\n",
    "x=0.4\n",
    "y=((1/(1+math.exp(-10*(x-0.5))))-0.5)*1.5+0.73996"
   ]
  },
  {
   "cell_type": "code",
   "execution_count": null,
   "metadata": {},
   "outputs": [],
   "source": []
  }
 ],
 "metadata": {
  "kernelspec": {
   "display_name": "Python 3",
   "language": "python",
   "name": "python3"
  },
  "language_info": {
   "codemirror_mode": {
    "name": "ipython",
    "version": 3
   },
   "file_extension": ".py",
   "mimetype": "text/x-python",
   "name": "python",
   "nbconvert_exporter": "python",
   "pygments_lexer": "ipython3",
   "version": "3.7.9"
  }
 },
 "nbformat": 4,
 "nbformat_minor": 4
}
